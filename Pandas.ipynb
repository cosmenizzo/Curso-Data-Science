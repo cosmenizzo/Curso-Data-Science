{
 "cells": [
  {
   "cell_type": "markdown",
   "metadata": {},
   "source": [
    "## Docs\n",
    "- https://pandas.pydata.org/pandas-docs/stable/10min.html"
   ]
  },
  {
   "cell_type": "code",
   "execution_count": 1,
   "metadata": {
    "collapsed": true
   },
   "outputs": [],
   "source": [
    "import pandas as pd"
   ]
  },
  {
   "cell_type": "code",
   "execution_count": 28,
   "metadata": {
    "collapsed": true
   },
   "outputs": [],
   "source": [
    "df = pd.read_excel('mdtr_city.xlsx')"
   ]
  },
  {
   "cell_type": "code",
   "execution_count": null,
   "metadata": {
    "collapsed": true
   },
   "outputs": [],
   "source": [
    "df.columns(CNPJ\tOutlet\tCidade\t2017/09\t2017/10\t2017/11\tTotal Geral\n",
    "')"
   ]
  },
  {
   "cell_type": "code",
   "execution_count": 29,
   "metadata": {},
   "outputs": [
    {
     "data": {
      "text/html": [
       "<div>\n",
       "<style>\n",
       "    .dataframe thead tr:only-child th {\n",
       "        text-align: right;\n",
       "    }\n",
       "\n",
       "    .dataframe thead th {\n",
       "        text-align: left;\n",
       "    }\n",
       "\n",
       "    .dataframe tbody tr th {\n",
       "        vertical-align: top;\n",
       "    }\n",
       "</style>\n",
       "<table border=\"1\" class=\"dataframe\">\n",
       "  <thead>\n",
       "    <tr style=\"text-align: right;\">\n",
       "      <th></th>\n",
       "      <th>Cx Pad Mensal</th>\n",
       "      <th>Unnamed: 1</th>\n",
       "      <th>Unnamed: 2</th>\n",
       "      <th>Competencia</th>\n",
       "      <th>Unnamed: 4</th>\n",
       "      <th>Unnamed: 5</th>\n",
       "      <th>Unnamed: 6</th>\n",
       "    </tr>\n",
       "  </thead>\n",
       "  <tbody>\n",
       "    <tr>\n",
       "      <th>count</th>\n",
       "      <td>31339</td>\n",
       "      <td>31338</td>\n",
       "      <td>31333</td>\n",
       "      <td>24123</td>\n",
       "      <td>24601</td>\n",
       "      <td>7200</td>\n",
       "      <td>31339</td>\n",
       "    </tr>\n",
       "    <tr>\n",
       "      <th>unique</th>\n",
       "      <td>31339</td>\n",
       "      <td>12533</td>\n",
       "      <td>3354</td>\n",
       "      <td>348</td>\n",
       "      <td>370</td>\n",
       "      <td>89</td>\n",
       "      <td>555</td>\n",
       "    </tr>\n",
       "    <tr>\n",
       "      <th>top</th>\n",
       "      <td>61585865148060</td>\n",
       "      <td>FARMACIAS PAGUE MENOS</td>\n",
       "      <td>SAO PAULO</td>\n",
       "      <td>1</td>\n",
       "      <td>1</td>\n",
       "      <td>1</td>\n",
       "      <td>1</td>\n",
       "    </tr>\n",
       "    <tr>\n",
       "      <th>freq</th>\n",
       "      <td>1</td>\n",
       "      <td>1012</td>\n",
       "      <td>2307</td>\n",
       "      <td>5295</td>\n",
       "      <td>5360</td>\n",
       "      <td>2638</td>\n",
       "      <td>5380</td>\n",
       "    </tr>\n",
       "  </tbody>\n",
       "</table>\n",
       "</div>"
      ],
      "text/plain": [
       "         Cx Pad Mensal             Unnamed: 1 Unnamed: 2  Competencia  \\\n",
       "count            31339                  31338      31333        24123   \n",
       "unique           31339                  12533       3354          348   \n",
       "top     61585865148060  FARMACIAS PAGUE MENOS  SAO PAULO            1   \n",
       "freq                 1                   1012       2307         5295   \n",
       "\n",
       "        Unnamed: 4  Unnamed: 5  Unnamed: 6  \n",
       "count        24601        7200       31339  \n",
       "unique         370          89         555  \n",
       "top              1           1           1  \n",
       "freq          5360        2638        5380  "
      ]
     },
     "execution_count": 29,
     "metadata": {},
     "output_type": "execute_result"
    }
   ],
   "source": [
    "df.describe()"
   ]
  },
  {
   "cell_type": "code",
   "execution_count": 30,
   "metadata": {},
   "outputs": [
    {
     "data": {
      "text/html": [
       "<div>\n",
       "<style>\n",
       "    .dataframe thead tr:only-child th {\n",
       "        text-align: right;\n",
       "    }\n",
       "\n",
       "    .dataframe thead th {\n",
       "        text-align: left;\n",
       "    }\n",
       "\n",
       "    .dataframe tbody tr th {\n",
       "        vertical-align: top;\n",
       "    }\n",
       "</style>\n",
       "<table border=\"1\" class=\"dataframe\">\n",
       "  <thead>\n",
       "    <tr style=\"text-align: right;\">\n",
       "      <th></th>\n",
       "      <th>Cx Pad Mensal</th>\n",
       "      <th>Unnamed: 1</th>\n",
       "      <th>Unnamed: 2</th>\n",
       "      <th>Competencia</th>\n",
       "      <th>Unnamed: 4</th>\n",
       "      <th>Unnamed: 5</th>\n",
       "      <th>Unnamed: 6</th>\n",
       "    </tr>\n",
       "  </thead>\n",
       "  <tbody>\n",
       "    <tr>\n",
       "      <th>0</th>\n",
       "      <td>CNPJ</td>\n",
       "      <td>Outlet</td>\n",
       "      <td>Cidade</td>\n",
       "      <td>2017/09</td>\n",
       "      <td>2017/10</td>\n",
       "      <td>2017/11</td>\n",
       "      <td>Total Geral</td>\n",
       "    </tr>\n",
       "    <tr>\n",
       "      <th>1</th>\n",
       "      <td>00002903000101</td>\n",
       "      <td>DROG STA RITA DE CANDIDO</td>\n",
       "      <td>CANDIDO MOTA</td>\n",
       "      <td>2</td>\n",
       "      <td>2</td>\n",
       "      <td>NaN</td>\n",
       "      <td>4</td>\n",
       "    </tr>\n",
       "    <tr>\n",
       "      <th>2</th>\n",
       "      <td>00005391000137</td>\n",
       "      <td>DROGARIA FARMA CRUZ</td>\n",
       "      <td>FRANCA</td>\n",
       "      <td>2</td>\n",
       "      <td>3</td>\n",
       "      <td>NaN</td>\n",
       "      <td>5</td>\n",
       "    </tr>\n",
       "    <tr>\n",
       "      <th>3</th>\n",
       "      <td>00006037000470</td>\n",
       "      <td>HOSPITAL UNIMED TATUI-JOSE FCO.M.DE ALMEIDA - DR.</td>\n",
       "      <td>TATUI</td>\n",
       "      <td>NaN</td>\n",
       "      <td>1</td>\n",
       "      <td>NaN</td>\n",
       "      <td>1</td>\n",
       "    </tr>\n",
       "    <tr>\n",
       "      <th>4</th>\n",
       "      <td>00006290000180</td>\n",
       "      <td>DROGARIA CAMPEA POPULAR</td>\n",
       "      <td>SAO PAULO</td>\n",
       "      <td>3</td>\n",
       "      <td>2</td>\n",
       "      <td>NaN</td>\n",
       "      <td>5</td>\n",
       "    </tr>\n",
       "  </tbody>\n",
       "</table>\n",
       "</div>"
      ],
      "text/plain": [
       "    Cx Pad Mensal                                         Unnamed: 1  \\\n",
       "0            CNPJ                                             Outlet   \n",
       "1  00002903000101                           DROG STA RITA DE CANDIDO   \n",
       "2  00005391000137                                DROGARIA FARMA CRUZ   \n",
       "3  00006037000470  HOSPITAL UNIMED TATUI-JOSE FCO.M.DE ALMEIDA - DR.   \n",
       "4  00006290000180                            DROGARIA CAMPEA POPULAR   \n",
       "\n",
       "     Unnamed: 2 Competencia Unnamed: 4 Unnamed: 5   Unnamed: 6  \n",
       "0        Cidade     2017/09    2017/10    2017/11  Total Geral  \n",
       "1  CANDIDO MOTA           2          2        NaN            4  \n",
       "2        FRANCA           2          3        NaN            5  \n",
       "3         TATUI         NaN          1        NaN            1  \n",
       "4     SAO PAULO           3          2        NaN            5  "
      ]
     },
     "execution_count": 30,
     "metadata": {},
     "output_type": "execute_result"
    }
   ],
   "source": [
    "df.head(5)"
   ]
  },
  {
   "cell_type": "code",
   "execution_count": 26,
   "metadata": {},
   "outputs": [
    {
     "data": {
      "text/plain": [
       "Index(['Cx Pad Mensal', 'Unnamed: 1', 'Unnamed: 2', 'Competencia',\n",
       "       'Unnamed: 4', 'Unnamed: 5', 'Unnamed: 6'],\n",
       "      dtype='object')"
      ]
     },
     "execution_count": 26,
     "metadata": {},
     "output_type": "execute_result"
    }
   ],
   "source": [
    "df.columns"
   ]
  },
  {
   "cell_type": "code",
   "execution_count": 27,
   "metadata": {},
   "outputs": [
    {
     "data": {
      "text/plain": [
       "RangeIndex(start=0, stop=31339, step=1)"
      ]
     },
     "execution_count": 27,
     "metadata": {},
     "output_type": "execute_result"
    }
   ],
   "source": [
    "df.index"
   ]
  },
  {
   "cell_type": "code",
   "execution_count": 13,
   "metadata": {
    "collapsed": true
   },
   "outputs": [],
   "source": [
    "df_csv = pd.read_csv('mdtr_city.csv', sep=';')"
   ]
  },
  {
   "cell_type": "code",
   "execution_count": 18,
   "metadata": {},
   "outputs": [
    {
     "name": "stdout",
     "output_type": "stream",
     "text": [
      "0         5391000137\n",
      "1         6037000470\n",
      "2         6290000180\n",
      "3         6290000199\n",
      "4         6486000175\n",
      "5        11976000160\n",
      "6        13246000106\n",
      "7        17373000175\n",
      "8        19968000160\n",
      "9        20717000103\n",
      "10       22548000132\n",
      "11       25528000115\n",
      "12       28656000112\n",
      "13       28656000199\n",
      "14       30181000107\n",
      "15       30181000280\n",
      "16       30181000360\n",
      "17       30181000603\n",
      "18       30181000794\n",
      "19       30181000875\n",
      "20       30181000956\n",
      "21       32532000100\n",
      "22       37259000107\n",
      "23       49791000144\n",
      "24       53082000132\n",
      "25       58542000115\n",
      "26       58816000176\n",
      "27       59344000176\n",
      "28       60726000110\n",
      "29       61325000184\n",
      "            ...     \n",
      "31307      BN0852023\n",
      "31308      BN0856001\n",
      "31309      BN0856002\n",
      "31310      BN0856004\n",
      "31311      BN0856005\n",
      "31312      BN0860011\n",
      "31313      BN1071001\n",
      "31314      BN1073001\n",
      "31315      BN1074001\n",
      "31316      BN1080001\n",
      "31317      BN1081007\n",
      "31318      BN1081021\n",
      "31319      BN1082001\n",
      "31320      BN1082013\n",
      "31321      BN1089001\n",
      "31322      BN1092001\n",
      "31323      BN1092002\n",
      "31324      BN1093011\n",
      "31325      BN1099002\n",
      "31326      BN1105006\n",
      "31327      BN1171001\n",
      "31328      BN1176001\n",
      "31329      BN1219001\n",
      "31330      BN1221002\n",
      "31331      BN1241009\n",
      "31332      BN1322019\n",
      "31333      BO8152001\n",
      "31334      BO8162001\n",
      "31335      BO8837008\n",
      "31336    Total Geral\n",
      "Name: 2903000101, Length: 31337, dtype: object\n"
     ]
    }
   ],
   "source": [
    "print(df_csv['2903000101'])"
   ]
  },
  {
   "cell_type": "code",
   "execution_count": null,
   "metadata": {
    "collapsed": true
   },
   "outputs": [],
   "source": []
  }
 ],
 "metadata": {
  "kernelspec": {
   "display_name": "Python 3",
   "language": "python",
   "name": "python3"
  },
  "language_info": {
   "codemirror_mode": {
    "name": "ipython",
    "version": 3
   },
   "file_extension": ".py",
   "mimetype": "text/x-python",
   "name": "python",
   "nbconvert_exporter": "python",
   "pygments_lexer": "ipython3",
   "version": "3.6.1"
  }
 },
 "nbformat": 4,
 "nbformat_minor": 2
}
